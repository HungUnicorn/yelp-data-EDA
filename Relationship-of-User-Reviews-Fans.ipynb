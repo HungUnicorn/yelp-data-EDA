{
 "cells": [
  {
   "cell_type": "code",
   "execution_count": null,
   "metadata": {
    "collapsed": true
   },
   "outputs": [],
   "source": [
    "// The environment setup is 12 GB memory with 4 CPU core. This machine only runs two docker containers: cassandra and the ipython notebook\n",
    "// we want to answer the question - investigating the relationship: \n",
    "// does a user have more reviews means it has more fans?"
   ]
  },
  {
   "cell_type": "code",
   "execution_count": 1,
   "metadata": {
    "collapsed": true
   },
   "outputs": [],
   "source": [
    "import org.apache.spark.sql.SparkSession\n",
    "import org.apache.spark.sql.cassandra._\n",
    "val sparkSession = SparkSession.builder().config(sc.getConf).getOrCreate()\n",
    "import sparkSession.implicits._"
   ]
  },
  {
   "cell_type": "code",
   "execution_count": 2,
   "metadata": {
    "collapsed": true
   },
   "outputs": [],
   "source": [
    "sparkSession.read.cassandraFormat(keyspace = \"yelp\", table = \"user\").load().createOrReplaceTempView(\"user\")"
   ]
  },
  {
   "cell_type": "code",
   "execution_count": 3,
   "metadata": {
    "collapsed": true
   },
   "outputs": [],
   "source": [
    "val users_reviews_and_fans = sparkSession.sql(\"\"\"\n",
    "SELECT u.user_id, sum(u.review_count) as sum_reviews, sum(u.fans) as sum_fans\n",
    "FROM user u\n",
    "GROUP BY u.user_id\n",
    "ORDER BY sum_reviews DESC\n",
    "\"\"\")"
   ]
  },
  {
   "cell_type": "code",
   "execution_count": 4,
   "metadata": {},
   "outputs": [
    {
     "name": "stdout",
     "output_type": "stream",
     "text": [
      "+----------------------+-----------+--------+\n",
      "|user_id               |sum_reviews|sum_fans|\n",
      "+----------------------+-----------+--------+\n",
      "|hWDybu_KvYLSdEFzGrniTw|7125       |337     |\n",
      "|CxDOIDnH8gp9KXzpBHJYXw|5596       |508     |\n",
      "|Xj0O2l0bp633ebmG468aZw|4241       |165     |\n",
      "|GwlrUwkULm4ZLN-Kum5nag|3639       |194     |\n",
      "|U4INQZOPSUaj8hMjLlZ3KA|3632       |607     |\n",
      "|CQUDh80m48xnzUkx-X5NAw|3568       |475     |\n",
      "|cMEtAiW60I5wE_vLfTxoJQ|3480       |140     |\n",
      "|bLbSNkLggFnqwNNzzq-Ijw|3463       |331     |\n",
      "|Hi10sGSZNxQH3NLyWSZ1oA|3006       |574     |\n",
      "|re3AdczLFP4D7xwI6DkBNA|2525       |126     |\n",
      "|OapLWhQI4_Gm32-nYbHmUA|2299       |374     |\n",
      "|PKEzKWv_FktMm2mGPjwd0Q|2049       |192     |\n",
      "|62GNFh5FySkA3MbrQmnqvg|2012       |123     |\n",
      "|Um5bfs5DH6eizgjH3xZsvg|1987       |95      |\n",
      "|QJI9OSEn6ujRCtrX06vs1w|1983       |268     |\n",
      "|DK57YibC5ShBmqQl97CKog|1741       |151     |\n",
      "|dIIKEfOgo0KqUfGQvGikPg|1730       |722     |\n",
      "|YRcaNlwQ6XXPFDXWtuMGdA|1729       |77      |\n",
      "|j5ezF5mEGpnDwdTmAHci7Q|1677       |100     |\n",
      "|d_TBs6J3twMy9GChqUEXkg|1641       |75      |\n",
      "|LPTq2-fZ9_TsG5o8lAWCGg|1617       |156     |\n",
      "|XCW5pJCDhvlW76XTSUEkIg|1616       |168     |\n",
      "|QuZbJquRtbY9O9JrB9NpxQ|1613       |148     |\n",
      "|ouODopBKF3AqfCkuQEnrDg|1612       |88      |\n",
      "|j_orXueAYJBft-VUNbs1IA|1555       |58      |\n",
      "|G9Vb6yQ047TC3O_-GG4WZA|1538       |1513    |\n",
      "|qmVXmbchh1V-PYSpvWU_rw|1532       |35      |\n",
      "|fdwVdy6TuY1kjYeEPMZKVw|1494       |98      |\n",
      "|rv9d5TcnnxuOCX7ole_Clg|1461       |51      |\n",
      "|rCWrxuRC8_pfagpchtHp6A|1454       |235     |\n",
      "+----------------------+-----------+--------+\n",
      "only showing top 30 rows\n",
      "\n"
     ]
    }
   ],
   "source": [
    "// Let's have a brief view of the data\n",
    "users_reviews_and_fans.show(30, false)"
   ]
  },
  {
   "cell_type": "code",
   "execution_count": 5,
   "metadata": {},
   "outputs": [
    {
     "name": "stdout",
     "output_type": "stream",
     "text": [
      "root\n",
      " |-- user_id: string (nullable = true)\n",
      " |-- sum_reviews: long (nullable = true)\n",
      " |-- sum_fans: long (nullable = true)\n",
      "\n"
     ]
    }
   ],
   "source": [
    "// Seeing the above looks like the relationship is not high, but let's calculate the correlation coefficient\n",
    "import org.apache.spark.mllib.stat.Statistics\n",
    "\n",
    "// Before calculating the correlation, let's check the schema first, because correlation function requires Double\n",
    "users_reviews_and_fans.printSchema"
   ]
  },
  {
   "cell_type": "code",
   "execution_count": 6,
   "metadata": {},
   "outputs": [
    {
     "name": "stdout",
     "output_type": "stream",
     "text": [
      "root\n",
      " |-- user_id: string (nullable = true)\n",
      " |-- sum_reviews: double (nullable = true)\n",
      " |-- sum_fans: double (nullable = true)\n",
      "\n"
     ]
    }
   ],
   "source": [
    "val df = users_reviews_and_fans.selectExpr(\"user_id\", \"cast(sum_reviews as double) as sum_reviews\", \n",
    "\"cast(sum_fans as double) as sum_fans\")\n",
    "\n",
    "df.printSchema"
   ]
  },
  {
   "cell_type": "code",
   "execution_count": 7,
   "metadata": {
    "collapsed": true
   },
   "outputs": [],
   "source": [
    "// prepare the sequence \n",
    "val reviews = df.select($\"sum_reviews\").rdd.map(_.getDouble(0))\n",
    "val fans = df.select($\"sum_fans\").rdd.map(_.getDouble(0))"
   ]
  },
  {
   "cell_type": "code",
   "execution_count": 8,
   "metadata": {},
   "outputs": [
    {
     "name": "stdout",
     "output_type": "stream",
     "text": [
      "0.6616127674231399"
     ]
    }
   ],
   "source": [
    "val p_correlation: Double = Statistics.corr(reviews, fans, \"pearson\")\n",
    "print(p_correlation)"
   ]
  },
  {
   "cell_type": "code",
   "execution_count": 9,
   "metadata": {},
   "outputs": [
    {
     "name": "stdout",
     "output_type": "stream",
     "text": [
      "0.783139779501409"
     ]
    }
   ],
   "source": [
    "//  Pearson correlation is highly affected by outliers, and we can image many outliers in this case, \n",
    "// so let's use spearman \n",
    "\n",
    "val s_correlation: Double = Statistics.corr(reviews, fans, \"spearman\")\n",
    "print(s_correlation)"
   ]
  },
  {
   "cell_type": "code",
   "execution_count": null,
   "metadata": {
    "collapsed": true
   },
   "outputs": [],
   "source": [
    "// It looks like correlation is quite high, let's give more reviews and expect to have more fans!"
   ]
  }
 ],
 "metadata": {
  "kernelspec": {
   "display_name": "Apache Toree - Scala",
   "language": "scala",
   "name": "apache_toree_scala"
  },
  "language_info": {
   "file_extension": ".scala",
   "name": "scala",
   "version": "2.11.8"
  }
 },
 "nbformat": 4,
 "nbformat_minor": 2
}
